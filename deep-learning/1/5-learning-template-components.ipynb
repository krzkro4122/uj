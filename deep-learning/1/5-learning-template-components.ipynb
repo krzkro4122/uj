{
 "cells": [
  {
   "cell_type": "code",
   "execution_count": 1,
   "metadata": {},
   "outputs": [
    {
     "name": "stderr",
     "output_type": "stream",
     "text": [
      "2023-10-28 09:03:57.963074: I tensorflow/tsl/cuda/cudart_stub.cc:28] Could not find cuda drivers on your machine, GPU will not be used.\n",
      "2023-10-28 09:03:58.103205: E tensorflow/compiler/xla/stream_executor/cuda/cuda_dnn.cc:9342] Unable to register cuDNN factory: Attempting to register factory for plugin cuDNN when one has already been registered\n",
      "2023-10-28 09:03:58.103271: E tensorflow/compiler/xla/stream_executor/cuda/cuda_fft.cc:609] Unable to register cuFFT factory: Attempting to register factory for plugin cuFFT when one has already been registered\n",
      "2023-10-28 09:03:58.103352: E tensorflow/compiler/xla/stream_executor/cuda/cuda_blas.cc:1518] Unable to register cuBLAS factory: Attempting to register factory for plugin cuBLAS when one has already been registered\n",
      "2023-10-28 09:03:58.144876: I tensorflow/tsl/cuda/cudart_stub.cc:28] Could not find cuda drivers on your machine, GPU will not be used.\n",
      "2023-10-28 09:03:58.147107: I tensorflow/core/platform/cpu_feature_guard.cc:182] This TensorFlow binary is optimized to use available CPU instructions in performance-critical operations.\n",
      "To enable the following instructions: AVX2 FMA, in other operations, rebuild TensorFlow with the appropriate compiler flags.\n",
      "2023-10-28 09:04:00.455435: W tensorflow/compiler/tf2tensorrt/utils/py_utils.cc:38] TF-TRT Warning: Could not find TensorRT\n"
     ]
    }
   ],
   "source": [
    "from keras.models import Sequential\n",
    "from keras.layers import Dense\n",
    "\n",
    "from keras.models import Model\n",
    "from keras.layers import Input, Dense\n",
    "\n",
    "# import keras.backend as K"
   ]
  },
  {
   "cell_type": "markdown",
   "metadata": {},
   "source": [
    "### Sequential model"
   ]
  },
  {
   "cell_type": "code",
   "execution_count": 2,
   "metadata": {},
   "outputs": [
    {
     "name": "stdout",
     "output_type": "stream",
     "text": [
      "Model: \"sequential\"\n",
      "_________________________________________________________________\n",
      " Layer (type)                Output Shape              Param #   \n",
      "=================================================================\n",
      " dense (Dense)               (None, 64)                6464      \n",
      "                                                                 \n",
      " dense_1 (Dense)             (None, 10)                650       \n",
      "                                                                 \n",
      "=================================================================\n",
      "Total params: 7114 (27.79 KB)\n",
      "Trainable params: 7114 (27.79 KB)\n",
      "Non-trainable params: 0 (0.00 Byte)\n",
      "_________________________________________________________________\n"
     ]
    }
   ],
   "source": [
    "# Inicjalizacja modelu sekwencyjnego\n",
    "model = Sequential()\n",
    "\n",
    "# Dodawanie warstw do modelu sekwencyjnego\n",
    "model.add(\n",
    "    Dense(units=64, activation='relu', input_shape=(100,))\n",
    ")\n",
    "model.add(\n",
    "    Dense(units=10, activation='softmax')\n",
    ")\n",
    "\n",
    "# Kompilacja modelu\n",
    "model.compile(\n",
    "    loss='categorical_crossentropy', \n",
    "    optimizer='sgd', \n",
    "    metrics=['accuracy']\n",
    ")\n",
    "\n",
    "# Wyświetlenie podsumowania modelu\n",
    "model.summary()"
   ]
  },
  {
   "cell_type": "markdown",
   "metadata": {},
   "source": [
    "### Functional model"
   ]
  },
  {
   "cell_type": "code",
   "execution_count": 3,
   "metadata": {},
   "outputs": [
    {
     "name": "stdout",
     "output_type": "stream",
     "text": [
      "Model: \"model\"\n",
      "_________________________________________________________________\n",
      " Layer (type)                Output Shape              Param #   \n",
      "=================================================================\n",
      " input_1 (InputLayer)        [(None, 100)]             0         \n",
      "                                                                 \n",
      " dense_2 (Dense)             (None, 64)                6464      \n",
      "                                                                 \n",
      " dense_3 (Dense)             (None, 10)                650       \n",
      "                                                                 \n",
      "=================================================================\n",
      "Total params: 7114 (27.79 KB)\n",
      "Trainable params: 7114 (27.79 KB)\n",
      "Non-trainable params: 0 (0.00 Byte)\n",
      "_________________________________________________________________\n"
     ]
    }
   ],
   "source": [
    "# Definicja warstw\n",
    "inputs = Input(shape=(100,))\n",
    "x = Dense(units=64, activation='relu')(inputs)\n",
    "predictions = Dense(units=10, activation='softmax')(x)\n",
    "\n",
    "# Inicjalizacja modelu funkcjonalnego\n",
    "model = Model(inputs=inputs, outputs=predictions)\n",
    "\n",
    "# Kompilacja modelu\n",
    "model.compile(\n",
    "    loss='categorical_crossentropy', \n",
    "    optimizer='sgd', \n",
    "    metrics=['accuracy']\n",
    ")\n",
    "\n",
    "# Wyświetlenie podsumowania modelu\n",
    "model.summary()"
   ]
  },
  {
   "cell_type": "markdown",
   "metadata": {},
   "source": [
    "### Custom model"
   ]
  },
  {
   "cell_type": "code",
   "execution_count": 4,
   "metadata": {},
   "outputs": [
    {
     "name": "stdout",
     "output_type": "stream",
     "text": [
      "Model: \"custom_model\"\n",
      "_________________________________________________________________\n",
      " Layer (type)                Output Shape              Param #   \n",
      "=================================================================\n",
      " dense_4 (Dense)             multiple                  6464      \n",
      "                                                                 \n",
      " dense_5 (Dense)             multiple                  650       \n",
      "                                                                 \n",
      "=================================================================\n",
      "Total params: 7114 (27.79 KB)\n",
      "Trainable params: 7114 (27.79 KB)\n",
      "Non-trainable params: 0 (0.00 Byte)\n",
      "_________________________________________________________________\n"
     ]
    }
   ],
   "source": [
    "# Tworzenie własnej podklasy klasy Model\n",
    "class CustomModel(Model):\n",
    "    def __init__(self, **kwargs):\n",
    "        super(CustomModel, self).__init__(**kwargs)\n",
    "        self.dense1 = Dense(64, activation='relu')\n",
    "        self.dense2 = Dense(10, activation='softmax')\n",
    "\n",
    "    def call(self, inputs):\n",
    "        x = self.dense1(inputs)\n",
    "        return self.dense2(x)\n",
    "\n",
    "# Inicjalizacja modelu\n",
    "custom_model = CustomModel()\n",
    "\n",
    "# Kompilacja modelu\n",
    "custom_model.compile(\n",
    "    loss='categorical_crossentropy', \n",
    "    optimizer='sgd', \n",
    "    metrics=['accuracy']\n",
    ")\n",
    "\n",
    "# Wyświetlenie podsumowania modelu\n",
    "custom_model.build((None, 100))  # Określenie kształtu danych wejściowych\n",
    "custom_model.summary()"
   ]
  }
 ],
 "metadata": {
  "kernelspec": {
   "display_name": ".venv",
   "language": "python",
   "name": "python3"
  },
  "language_info": {
   "codemirror_mode": {
    "name": "ipython",
    "version": 3
   },
   "file_extension": ".py",
   "mimetype": "text/x-python",
   "name": "python",
   "nbconvert_exporter": "python",
   "pygments_lexer": "ipython3",
   "version": "3.11.5"
  },
  "orig_nbformat": 4
 },
 "nbformat": 4,
 "nbformat_minor": 2
}
