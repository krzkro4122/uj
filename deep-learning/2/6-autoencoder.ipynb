{
 "cells": [
  {
   "cell_type": "code",
   "execution_count": 1,
   "metadata": {},
   "outputs": [],
   "source": [
    "import os\n",
    "\n",
    "import torch\n",
    "\n",
    "from torch import nn\n",
    "from torch.autograd import Variable\n",
    "from torch.utils.data import DataLoader\n",
    "from torchvision import transforms\n",
    "from torchvision.datasets import MNIST\n",
    "from torchvision.utils import save_image"
   ]
  },
  {
   "cell_type": "markdown",
   "metadata": {},
   "source": [
    "# Meta params"
   ]
  },
  {
   "cell_type": "code",
   "execution_count": 2,
   "metadata": {},
   "outputs": [],
   "source": [
    "num_epochs = 100\n",
    "batch_size = 128\n",
    "learning_rate = 1e-3\n",
    "\n",
    "img_transform = transforms.Compose([\n",
    "    transforms.ToTensor(),\n",
    "    transforms.Normalize([0.5], [0.5])\n",
    "])"
   ]
  },
  {
   "cell_type": "markdown",
   "metadata": {},
   "source": [
    "# Autoencoder definition"
   ]
  },
  {
   "cell_type": "code",
   "execution_count": 3,
   "metadata": {},
   "outputs": [],
   "source": [
    "class autoencoder(nn.Module):\n",
    "    \n",
    "    def __init__(self):\n",
    "        super(autoencoder, self).__init__()\n",
    "\n",
    "        self.encoder = nn.Sequential(\n",
    "            nn.Linear(28 * 28, 128),\n",
    "            nn.ReLU(True),\n",
    "            nn.Linear(128, 64),\n",
    "            nn.ReLU(True), \n",
    "            nn.Linear(64, 12), \n",
    "            nn.ReLU(True), \n",
    "            nn.Linear(12, 3)\n",
    "        )\n",
    "        \n",
    "        self.decoder = nn.Sequential(\n",
    "            nn.Linear(3, 12),\n",
    "            nn.ReLU(True),\n",
    "            nn.Linear(12, 64),\n",
    "            nn.ReLU(True),\n",
    "            nn.Linear(64, 128),\n",
    "            nn.ReLU(True), \n",
    "            nn.Linear(128, 28 * 28), \n",
    "            nn.Tanh()\n",
    "        )\n",
    "\n",
    "    def forward(self, x):\n",
    "        x = self.encoder(x)\n",
    "        x = self.decoder(x)\n",
    "        return x"
   ]
  },
  {
   "cell_type": "markdown",
   "metadata": {},
   "source": [
    "# Load data"
   ]
  },
  {
   "cell_type": "code",
   "execution_count": 4,
   "metadata": {},
   "outputs": [],
   "source": [
    "dataset = MNIST('./data', transform=img_transform, download=True)\n",
    "dataloader = DataLoader(dataset, batch_size=batch_size, shuffle=True)\n",
    "\n",
    "if not os.path.exists('./mlp_img'):\n",
    "    os.mkdir('./mlp_img')\n",
    "\n",
    "\n",
    "def to_img(x):\n",
    "    x = 0.5 * (x + 1)\n",
    "    x = x.clamp(0, 1)\n",
    "    x = x.view(x.size(0), 1, 28, 28)\n",
    "    return x"
   ]
  },
  {
   "cell_type": "markdown",
   "metadata": {},
   "source": [
    "# Instantiate the model"
   ]
  },
  {
   "cell_type": "code",
   "execution_count": 5,
   "metadata": {},
   "outputs": [],
   "source": [
    "model = autoencoder().cuda()\n",
    "criterion = nn.MSELoss()\n",
    "optimizer = torch.optim.Adam(\n",
    "    model.parameters(), lr=learning_rate, weight_decay=1e-5)"
   ]
  },
  {
   "cell_type": "markdown",
   "metadata": {},
   "source": [
    "# Training"
   ]
  },
  {
   "cell_type": "code",
   "execution_count": 6,
   "metadata": {},
   "outputs": [
    {
     "name": "stdout",
     "output_type": "stream",
     "text": [
      "epoch [1/100], loss:0.1813\n",
      "epoch [2/100], loss:0.1708\n",
      "epoch [3/100], loss:0.1607\n",
      "epoch [4/100], loss:0.1515\n",
      "epoch [5/100], loss:0.1673\n",
      "epoch [6/100], loss:0.1451\n",
      "epoch [7/100], loss:0.1472\n",
      "epoch [8/100], loss:0.1279\n",
      "epoch [9/100], loss:0.1555\n",
      "epoch [10/100], loss:0.1380\n",
      "epoch [11/100], loss:0.1447\n",
      "epoch [12/100], loss:0.1430\n",
      "epoch [13/100], loss:0.1383\n",
      "epoch [14/100], loss:0.1361\n",
      "epoch [15/100], loss:0.1340\n",
      "epoch [16/100], loss:0.1282\n",
      "epoch [17/100], loss:0.1339\n",
      "epoch [18/100], loss:0.1391\n",
      "epoch [19/100], loss:0.1371\n",
      "epoch [20/100], loss:0.1304\n",
      "epoch [21/100], loss:0.1200\n",
      "epoch [22/100], loss:0.1302\n",
      "epoch [23/100], loss:0.1474\n",
      "epoch [24/100], loss:0.1308\n",
      "epoch [25/100], loss:0.1261\n",
      "epoch [26/100], loss:0.1131\n",
      "epoch [27/100], loss:0.1351\n",
      "epoch [28/100], loss:0.1334\n",
      "epoch [29/100], loss:0.1274\n",
      "epoch [30/100], loss:0.1231\n",
      "epoch [31/100], loss:0.1243\n",
      "epoch [32/100], loss:0.1339\n",
      "epoch [33/100], loss:0.1475\n",
      "epoch [34/100], loss:0.1307\n",
      "epoch [35/100], loss:0.1210\n",
      "epoch [36/100], loss:0.1433\n",
      "epoch [37/100], loss:0.1131\n",
      "epoch [38/100], loss:0.1296\n",
      "epoch [39/100], loss:0.1298\n",
      "epoch [40/100], loss:0.1403\n",
      "epoch [41/100], loss:0.1388\n",
      "epoch [42/100], loss:0.1267\n",
      "epoch [43/100], loss:0.1271\n",
      "epoch [44/100], loss:0.1287\n",
      "epoch [45/100], loss:0.1327\n",
      "epoch [46/100], loss:0.1168\n",
      "epoch [47/100], loss:0.1192\n",
      "epoch [48/100], loss:0.1254\n",
      "epoch [49/100], loss:0.1188\n",
      "epoch [50/100], loss:0.1311\n",
      "epoch [51/100], loss:0.1349\n",
      "epoch [52/100], loss:0.1293\n",
      "epoch [53/100], loss:0.1231\n",
      "epoch [54/100], loss:0.1217\n",
      "epoch [55/100], loss:0.1171\n",
      "epoch [56/100], loss:0.1231\n",
      "epoch [57/100], loss:0.1216\n",
      "epoch [58/100], loss:0.1237\n",
      "epoch [59/100], loss:0.1261\n",
      "epoch [60/100], loss:0.1346\n",
      "epoch [61/100], loss:0.1279\n",
      "epoch [62/100], loss:0.1264\n",
      "epoch [63/100], loss:0.1376\n",
      "epoch [64/100], loss:0.1165\n",
      "epoch [65/100], loss:0.1331\n",
      "epoch [66/100], loss:0.1180\n",
      "epoch [67/100], loss:0.1236\n",
      "epoch [68/100], loss:0.1267\n",
      "epoch [69/100], loss:0.1200\n",
      "epoch [70/100], loss:0.1213\n",
      "epoch [71/100], loss:0.1029\n",
      "epoch [72/100], loss:0.1252\n",
      "epoch [73/100], loss:0.1327\n",
      "epoch [74/100], loss:0.1135\n",
      "epoch [75/100], loss:0.1226\n",
      "epoch [76/100], loss:0.1160\n",
      "epoch [77/100], loss:0.1203\n",
      "epoch [78/100], loss:0.1136\n",
      "epoch [79/100], loss:0.1264\n",
      "epoch [80/100], loss:0.1317\n",
      "epoch [81/100], loss:0.1284\n",
      "epoch [82/100], loss:0.1252\n",
      "epoch [83/100], loss:0.1206\n",
      "epoch [84/100], loss:0.1228\n",
      "epoch [85/100], loss:0.1250\n",
      "epoch [86/100], loss:0.1195\n",
      "epoch [87/100], loss:0.1222\n",
      "epoch [88/100], loss:0.1290\n",
      "epoch [89/100], loss:0.1197\n",
      "epoch [90/100], loss:0.1268\n",
      "epoch [91/100], loss:0.1168\n",
      "epoch [92/100], loss:0.1191\n",
      "epoch [93/100], loss:0.1177\n",
      "epoch [94/100], loss:0.1348\n",
      "epoch [95/100], loss:0.1319\n",
      "epoch [96/100], loss:0.1185\n",
      "epoch [97/100], loss:0.1212\n",
      "epoch [98/100], loss:0.1202\n",
      "epoch [99/100], loss:0.1265\n",
      "epoch [100/100], loss:0.1292\n"
     ]
    }
   ],
   "source": [
    "for epoch in range(num_epochs):\n",
    "    for data in dataloader:\n",
    "        img, _ = data\n",
    "        img = img.view(img.size(0), -1)\n",
    "        img = Variable(img).cuda()\n",
    "        \n",
    "        output = model(img)\n",
    "        loss = criterion(output, img)\n",
    "        \n",
    "        optimizer.zero_grad()\n",
    "        loss.backward()\n",
    "        optimizer.step()\n",
    "    \n",
    "    print('epoch [{}/{}], loss:{:.4f}'\n",
    "          .format(epoch + 1, num_epochs, loss.data.item()))\n",
    "    if epoch % 5 == 0:\n",
    "        pic = to_img(output.cpu().data)\n",
    "        save_image(pic, './mlp_img/image_{}.png'.format(epoch))\n",
    "\n",
    "torch.save(model.state_dict(), './sim_autoencoder.pth')"
   ]
  }
 ],
 "metadata": {
  "kernelspec": {
   "display_name": ".venv",
   "language": "python",
   "name": "python3"
  },
  "language_info": {
   "codemirror_mode": {
    "name": "ipython",
    "version": 3
   },
   "file_extension": ".py",
   "mimetype": "text/x-python",
   "name": "python",
   "nbconvert_exporter": "python",
   "pygments_lexer": "ipython3",
   "version": "3.11.6"
  },
  "orig_nbformat": 4
 },
 "nbformat": 4,
 "nbformat_minor": 2
}
