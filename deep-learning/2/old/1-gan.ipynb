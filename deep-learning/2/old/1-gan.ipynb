{
 "cells": [
  {
   "cell_type": "code",
   "execution_count": 38,
   "metadata": {},
   "outputs": [],
   "source": [
    "import tensorflow as tf\n",
    "\n",
    "from keras import optimizers, layers, models"
   ]
  },
  {
   "cell_type": "code",
   "execution_count": 39,
   "metadata": {},
   "outputs": [],
   "source": [
    "def build_generator(latent_dim):\n",
    "    model = models.Sequential()\n",
    "    model.add(layers.Dense(256, input_dim=latent_dim, activation='relu'))\n",
    "    model.add(layers.BatchNormalization())\n",
    "    model.add(layers.Dense(512, activation='relu'))\n",
    "    model.add(layers.BatchNormalization())\n",
    "    model.add(layers.Dense(784, activation='sigmoid'))\n",
    "    model.add(layers.Reshape((28, 28, 1)))\n",
    "    return model"
   ]
  },
  {
   "cell_type": "code",
   "execution_count": 40,
   "metadata": {},
   "outputs": [],
   "source": [
    "def build_discriminator(img_shape):\n",
    "    model = models.Sequential()\n",
    "    model.add(layers.Flatten(input_shape=img_shape))\n",
    "    model.add(layers.Dense(512, activation='relu'))\n",
    "    model.add(layers.Dense(256, activation='relu'))\n",
    "    model.add(layers.Dense(1, activation='sigmoid'))\n",
    "    return model"
   ]
  },
  {
   "cell_type": "code",
   "execution_count": 41,
   "metadata": {},
   "outputs": [],
   "source": [
    "def build_gan(generator, discriminator):\n",
    "    discriminator.trainable = False\n",
    "    model = models.Sequential()\n",
    "    model.add(generator)\n",
    "    model.add(discriminator)\n",
    "    return model"
   ]
  },
  {
   "cell_type": "code",
   "execution_count": 42,
   "metadata": {},
   "outputs": [],
   "source": [
    "# Wymiary obrazów\n",
    "img_shape = (28, 28, 1)\n",
    "\n",
    "# Wymiar wektora szumu (wejście generatora)\n",
    "latent_dim = 100"
   ]
  },
  {
   "cell_type": "code",
   "execution_count": 43,
   "metadata": {},
   "outputs": [],
   "source": [
    "discriminator = build_discriminator(img_shape)\n",
    "discriminator.compile(loss='binary_crossentropy', optimizer=optimizers.Adam(), metrics=['accuracy'])"
   ]
  },
  {
   "cell_type": "code",
   "execution_count": 44,
   "metadata": {},
   "outputs": [],
   "source": [
    "generator = build_generator(latent_dim)\n",
    "discriminator.trainable = False\n",
    "gan = build_gan(generator, discriminator)\n",
    "gan.compile(loss='binary_crossentropy', optimizer=optimizers.Adam())"
   ]
  },
  {
   "cell_type": "code",
   "execution_count": 45,
   "metadata": {},
   "outputs": [],
   "source": [
    "# Przykładowe dane do trenowania (np. dane z zestawu MNIST)\n",
    "(train_images, _), (_, _) = tf.keras.datasets.mnist.load_data()\n",
    "train_images = train_images / 127.5 - 1.0\n",
    "train_images = train_images.reshape((60000, 28, 28, 1))"
   ]
  },
  {
   "cell_type": "code",
   "execution_count": 50,
   "metadata": {},
   "outputs": [],
   "source": [
    "# Proces trenowania GAN\n",
    "def train_gan(generator, discriminator, gan, epochs, batch_size):\n",
    "    for epoch in range(epochs):\n",
    "        # Generowanie losowego szumu dla generatora\n",
    "        noise = tf.random.normal((batch_size, latent_dim))\n",
    "        \n",
    "        # Generowanie danych za pomocą generatora\n",
    "        generated_images = generator.predict(noise)\n",
    "        \n",
    "        # Losowanie próbek z danych rzeczywistych\n",
    "        idx = tf.random.uniform((batch_size,), 0, 60000, dtype=tf.int32)\n",
    "        real_images = train_images[idx]\n",
    "        \n",
    "        # Tworzenie etykiet dla danych rzeczywistych i wygenerowanych\n",
    "        real_labels = tf.ones((batch_size, 1))\n",
    "        fake_labels = tf.zeros((batch_size, 1))\n",
    "        \n",
    "        # Trenowanie dyskryminatora na danych rzeczywistych\n",
    "        d_loss_real = discriminator.train_on_batch(real_images, real_labels)\n",
    "        \n",
    "        # Trenowanie dyskryminatora na danych wygenerowanych\n",
    "        d_loss_fake = discriminator.train_on_batch(generated_images, fake_labels)\n",
    "        \n",
    "        # Obliczanie całkowitej straty dyskryminatora\n",
    "        d_loss = 0.5 * tf.add(d_loss_real, d_loss_fake) # type: ignore\n",
    "        \n",
    "        # Generowanie nowego szumu dla GAN\n",
    "        noise = tf.random.normal((batch_size, latent_dim))\n",
    "        \n",
    "        # Tworzenie etykiet dla danych wygenerowanych (udawanych za prawdziwe)\n",
    "        valid_labels = tf.ones((batch_size, 1))\n",
    "        \n",
    "        tf.keras.utils.disable_interactive_logging()\n",
    "        # Trenowanie GAN poprzez aktualizację wag generatora przy zamrożonym dyskryminatorze\n",
    "        g_loss = gan.train_on_batch(noise, valid_labels)\n",
    "        \n",
    "        # Wyświetlanie postępu co 100 epok\n",
    "        if epoch % 500 == 0:\n",
    "            print(f\"Epoka {epoch}, Strata dyskryminatora: {d_loss[0]}, Strata generatora: {g_loss}\")\n"
   ]
  },
  {
   "cell_type": "code",
   "execution_count": 51,
   "metadata": {},
   "outputs": [
    {
     "name": "stdout",
     "output_type": "stream",
     "text": [
      "Epoka 0, Strata dyskryminatora: 0.00019731737847905606, Strata generatora: 18.583696365356445\n",
      "Epoka 500, Strata dyskryminatora: 1.076653916243231e-06, Strata generatora: 13.049737930297852\n",
      "Epoka 1000, Strata dyskryminatora: 2.9081218144710874e-07, Strata generatora: 14.354414939880371\n",
      "Epoka 1500, Strata dyskryminatora: 1.1305029090635799e-07, Strata generatora: 15.305027961730957\n",
      "Epoka 2000, Strata dyskryminatora: 5.764339761071824e-08, Strata generatora: 15.979569435119629\n",
      "Epoka 2500, Strata dyskryminatora: 3.036815598989051e-08, Strata generatora: 16.617355346679688\n",
      "Epoka 3000, Strata dyskryminatora: 1.0002709771583795e-08, Strata generatora: 17.730072021484375\n",
      "Epoka 3500, Strata dyskryminatora: 1.220822287706369e-08, Strata generatora: 17.529348373413086\n",
      "Epoka 4000, Strata dyskryminatora: 6.570665789240593e-09, Strata generatora: 18.14812660217285\n",
      "Epoka 4500, Strata dyskryminatora: 3.930192171708313e-09, Strata generatora: 18.662477493286133\n"
     ]
    },
    {
     "ename": "",
     "evalue": "",
     "output_type": "error",
     "traceback": [
      "\u001b[1;31mThe Kernel crashed while executing code in the the current cell or a previous cell. Please review the code in the cell(s) to identify a possible cause of the failure. Click <a href='https://aka.ms/vscodeJupyterKernelCrash'>here</a> for more info. View Jupyter <a href='command:jupyter.viewOutput'>log</a> for further details."
     ]
    }
   ],
   "source": [
    "# Trenowanie GAN\n",
    "train_gan(generator, discriminator, gan, epochs=5000, batch_size=64)"
   ]
  }
 ],
 "metadata": {
  "kernelspec": {
   "display_name": ".venv",
   "language": "python",
   "name": "python3"
  },
  "language_info": {
   "codemirror_mode": {
    "name": "ipython",
    "version": 3
   },
   "file_extension": ".py",
   "mimetype": "text/x-python",
   "name": "python",
   "nbconvert_exporter": "python",
   "pygments_lexer": "ipython3",
   "version": "3.11.6"
  },
  "orig_nbformat": 4
 },
 "nbformat": 4,
 "nbformat_minor": 2
}
