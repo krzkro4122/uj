{
 "cells": [
  {
   "cell_type": "code",
   "execution_count": 30,
   "metadata": {},
   "outputs": [],
   "source": [
    "import torch\n",
    "from torch import nn\n",
    "\n",
    "import math\n",
    "import matplotlib.pyplot as plt"
   ]
  },
  {
   "cell_type": "code",
   "execution_count": 31,
   "metadata": {},
   "outputs": [
    {
     "data": {
      "text/plain": [
       "<torch._C.Generator at 0x7fc74c945270>"
      ]
     },
     "execution_count": 31,
     "metadata": {},
     "output_type": "execute_result"
    }
   ],
   "source": [
    "torch.manual_seed(111)"
   ]
  },
  {
   "cell_type": "markdown",
   "metadata": {},
   "source": [
    "# Preparing data"
   ]
  },
  {
   "cell_type": "code",
   "execution_count": 32,
   "metadata": {},
   "outputs": [],
   "source": [
    "train_data_length = 1024\n",
    "train_data = torch.zeros((train_data_length, 2))\n",
    "train_data[:, 0] = 2 * math.pi * torch.rand(train_data_length)\n",
    "train_data[:, 1] = torch.sin(train_data[:, 0])\n",
    "train_labels = torch.zeros(train_data_length)\n",
    "train_set = [\n",
    "    (train_data[i], train_labels[i]) for i in range(train_data_length)\n",
    "]"
   ]
  },
  {
   "cell_type": "code",
   "execution_count": 33,
   "metadata": {},
   "outputs": [
    {
     "data": {
      "text/plain": [
       "[<matplotlib.lines.Line2D at 0x7fc67eece0d0>]"
      ]
     },
     "execution_count": 33,
     "metadata": {},
     "output_type": "execute_result"
    },
    {
     "data": {
      "image/png": "[encoded data removed]",
      "text/plain": [
       "<Figure size 640x480 with 1 Axes>"
      ]
     },
     "metadata": {},
     "output_type": "display_data"
    }
   ],
   "source": [
    "plt.plot(train_data[:, 0], train_data[:, 1], \".\")"
   ]
  },
  {
   "cell_type": "code",
   "execution_count": 34,
   "metadata": {},
   "outputs": [],
   "source": [
    "batch_size = 32\n",
    "train_loader = torch.utils.data.DataLoader(\n",
    "    train_set, batch_size=batch_size, shuffle=True\n",
    ")"
   ]
  },
  {
   "cell_type": "markdown",
   "metadata": {},
   "source": [
    "# Building the GAN"
   ]
  },
  {
   "cell_type": "markdown",
   "metadata": {},
   "source": [
    "## Discriminator"
   ]
  },
  {
   "cell_type": "code",
   "execution_count": 35,
   "metadata": {},
   "outputs": [],
   "source": [
    "class Discriminator(nn.Module):\n",
    "    def __init__(self):\n",
    "        super().__init__()\n",
    "        self.model = nn.Sequential(\n",
    "            nn.Linear(2, 256),\n",
    "            nn.ReLU(),\n",
    "            nn.Dropout(0.3),\n",
    "            nn.Linear(256, 128),\n",
    "            nn.ReLU(),\n",
    "            nn.Dropout(0.3),\n",
    "            nn.Linear(128, 64),\n",
    "            nn.ReLU(),\n",
    "            nn.Dropout(0.3),\n",
    "            nn.Linear(64, 1),\n",
    "            nn.Sigmoid(),\n",
    "        )\n",
    "\n",
    "    def forward(self, x):\n",
    "        output = self.model(x)\n",
    "        return output"
   ]
  },
  {
   "cell_type": "code",
   "execution_count": 36,
   "metadata": {},
   "outputs": [],
   "source": [
    "discriminator = Discriminator()"
   ]
  },
  {
   "cell_type": "markdown",
   "metadata": {},
   "source": [
    "## Generator"
   ]
  },
  {
   "cell_type": "code",
   "execution_count": 37,
   "metadata": {},
   "outputs": [],
   "source": [
    "class Generator(nn.Module):\n",
    "    def __init__(self):\n",
    "        super().__init__()\n",
    "        self.model = nn.Sequential(\n",
    "            nn.Linear(2, 16),\n",
    "            nn.ReLU(),\n",
    "            nn.Linear(16, 32),\n",
    "            nn.ReLU(),\n",
    "            nn.Linear(32, 2),\n",
    "        )\n",
    "\n",
    "    def forward(self, x):\n",
    "        output = self.model(x)\n",
    "        return output"
   ]
  },
  {
   "cell_type": "code",
   "execution_count": 38,
   "metadata": {},
   "outputs": [],
   "source": [
    "generator = Generator()"
   ]
  },
  {
   "cell_type": "markdown",
   "metadata": {},
   "source": [
    "# Training"
   ]
  },
  {
   "cell_type": "code",
   "execution_count": 42,
   "metadata": {},
   "outputs": [
    {
     "name": "stdout",
     "output_type": "stream",
     "text": [
      "epoch=0, loss_discriminator.item()=0.5921069383621216, loss_generator.item()=1.0543040037155151\n",
      "epoch=10, loss_discriminator.item()=0.6943948864936829, loss_generator.item()=0.8352656960487366\n",
      "epoch=20, loss_discriminator.item()=0.6490615606307983, loss_generator.item()=0.7713360786437988\n",
      "epoch=30, loss_discriminator.item()=0.673454225063324, loss_generator.item()=0.7559762001037598\n",
      "epoch=40, loss_discriminator.item()=0.6413305997848511, loss_generator.item()=0.7456561326980591\n",
      "epoch=50, loss_discriminator.item()=0.6808484792709351, loss_generator.item()=0.8030910491943359\n",
      "epoch=60, loss_discriminator.item()=0.6522859930992126, loss_generator.item()=1.0851540565490723\n",
      "epoch=70, loss_discriminator.item()=0.6397290825843811, loss_generator.item()=0.9733529090881348\n",
      "epoch=80, loss_discriminator.item()=0.6674847602844238, loss_generator.item()=0.7538180947303772\n",
      "epoch=90, loss_discriminator.item()=0.6744194030761719, loss_generator.item()=0.9299842119216919\n",
      "epoch=100, loss_discriminator.item()=0.6433529853820801, loss_generator.item()=0.8601429462432861\n",
      "epoch=110, loss_discriminator.item()=0.7159119844436646, loss_generator.item()=0.6544196605682373\n",
      "epoch=120, loss_discriminator.item()=0.6057649850845337, loss_generator.item()=0.8035049438476562\n",
      "epoch=130, loss_discriminator.item()=0.7290507555007935, loss_generator.item()=0.712795078754425\n",
      "epoch=140, loss_discriminator.item()=0.6602275371551514, loss_generator.item()=0.7583305835723877\n",
      "epoch=150, loss_discriminator.item()=0.7143658399581909, loss_generator.item()=0.7586034536361694\n",
      "epoch=160, loss_discriminator.item()=0.5983312129974365, loss_generator.item()=0.9135929346084595\n",
      "epoch=170, loss_discriminator.item()=0.6415455341339111, loss_generator.item()=0.7521669864654541\n",
      "epoch=180, loss_discriminator.item()=0.7001501321792603, loss_generator.item()=0.7122564315795898\n",
      "epoch=190, loss_discriminator.item()=0.6599279046058655, loss_generator.item()=0.7226344347000122\n",
      "epoch=200, loss_discriminator.item()=0.730302095413208, loss_generator.item()=0.6991711854934692\n",
      "epoch=210, loss_discriminator.item()=0.6907042264938354, loss_generator.item()=0.7490308284759521\n",
      "epoch=220, loss_discriminator.item()=0.6628525853157043, loss_generator.item()=0.7221202254295349\n",
      "epoch=230, loss_discriminator.item()=0.6496957540512085, loss_generator.item()=0.797482430934906\n",
      "epoch=240, loss_discriminator.item()=0.6240624785423279, loss_generator.item()=0.7380810976028442\n",
      "epoch=250, loss_discriminator.item()=0.6278094053268433, loss_generator.item()=0.8788337707519531\n",
      "epoch=260, loss_discriminator.item()=0.6345926523208618, loss_generator.item()=1.0569288730621338\n",
      "epoch=270, loss_discriminator.item()=0.6898547410964966, loss_generator.item()=0.7657774686813354\n",
      "epoch=280, loss_discriminator.item()=0.5901117920875549, loss_generator.item()=0.8438758254051208\n",
      "epoch=290, loss_discriminator.item()=0.6488275527954102, loss_generator.item()=0.8646749258041382\n"
     ]
    }
   ],
   "source": [
    "# Meta parameters\n",
    "learning_rate = 0.001\n",
    "number_of_epochs = 300\n",
    "loss_function = nn.BCELoss()\n",
    "\n",
    "# Optimizations\n",
    "optimizer_discriminator = torch.optim.Adam(discriminator.parameters(), lr=learning_rate)\n",
    "optimizer_generator = torch.optim.Adam(generator.parameters(), lr=learning_rate)\n",
    "\n",
    "# Training loop\n",
    "for epoch in range(number_of_epochs):\n",
    "    for n, (real_samples, _) in enumerate(train_loader):\n",
    "        # Data for training the discriminator\n",
    "        real_samples_labels = torch.ones((batch_size, 1))\n",
    "        latent_space_samples = torch.randn((batch_size, 2))\n",
    "        generated_samples = generator(latent_space_samples)\n",
    "        generated_samples_labels = torch.zeros((batch_size, 1))\n",
    "        all_samples = torch.cat((real_samples, generated_samples))\n",
    "        all_samples_labels = torch.cat(\n",
    "            (real_samples_labels, generated_samples_labels)\n",
    "        )\n",
    "\n",
    "        # Training the discriminator\n",
    "        discriminator.zero_grad()\n",
    "        output_discriminator = discriminator(all_samples)\n",
    "        loss_discriminator = loss_function(\n",
    "            output_discriminator, all_samples_labels)\n",
    "        loss_discriminator.backward()\n",
    "        optimizer_discriminator.step()\n",
    "\n",
    "        # Data for training the generator\n",
    "        latent_space_samples = torch.randn((batch_size, 2))\n",
    "\n",
    "        # Training the generator\n",
    "        generator.zero_grad()\n",
    "        generated_samples = generator(latent_space_samples)\n",
    "        output_discriminator_generated = discriminator(generated_samples)\n",
    "        loss_generator = loss_function(\n",
    "            output_discriminator_generated, real_samples_labels\n",
    "        )\n",
    "        loss_generator.backward()\n",
    "        optimizer_generator.step()\n",
    "\n",
    "        # Show loss\n",
    "        if epoch % 10 == 0 and n == batch_size - 1:\n",
    "            print(f\"{epoch=}, {loss_discriminator.item()=}, {loss_generator.item()=}\")"
   ]
  },
  {
   "cell_type": "markdown",
   "metadata": {},
   "source": [
    "# Testing"
   ]
  },
  {
   "cell_type": "code",
   "execution_count": 43,
   "metadata": {},
   "outputs": [
    {
     "data": {
      "text/plain": [
       "[<matplotlib.lines.Line2D at 0x7fc67fb58d50>]"
      ]
     },
     "execution_count": 43,
     "metadata": {},
     "output_type": "execute_result"
    },
    {
     "data": {
      "image/png": "[encoded data removed]",
      "text/plain": [
       "<Figure size 640x480 with 1 Axes>"
      ]
     },
     "metadata": {},
     "output_type": "display_data"
    }
   ],
   "source": [
    "latent_space_samples = torch.randn(100, 2)\n",
    "generated_samples = generator(latent_space_samples).detach()\n",
    "\n",
    "plt.plot(generated_samples[:, 0], generated_samples[:, 1], \".\")"
   ]
  },
  {
   "cell_type": "markdown",
   "metadata": {},
   "source": [
    "## "
   ]
  }
 ],
 "metadata": {
  "kernelspec": {
   "display_name": ".venv",
   "language": "python",
   "name": "python3"
  },
  "language_info": {
   "codemirror_mode": {
    "name": "ipython",
    "version": 3
   },
   "file_extension": ".py",
   "mimetype": "text/x-python",
   "name": "python",
   "nbconvert_exporter": "python",
   "pygments_lexer": "ipython3",
   "version": "3.11.6"
  },
  "orig_nbformat": 4
 },
 "nbformat": 4,
 "nbformat_minor": 2
}
