{
 "cells": [
  {
   "cell_type": "markdown",
   "metadata": {},
   "source": [
    "# Deep Belief Networks"
   ]
  },
  {
   "cell_type": "code",
   "execution_count": 43,
   "metadata": {},
   "outputs": [],
   "source": [
    "import tensorflow as tf\n",
    "import keras\n",
    "# tf.config.run_functions_eagerly(True)\n",
    "\n",
    "from keras.layers import Input, Dense\n",
    "from keras.models import Model\n",
    "from keras.optimizers import Adam"
   ]
  },
  {
   "cell_type": "code",
   "execution_count": 44,
   "metadata": {},
   "outputs": [],
   "source": [
    "# Load the dataset \n",
    "(x_train, y_train), (x_test, y_test) = keras.datasets.mnist.load_data() "
   ]
  },
  {
   "cell_type": "code",
   "execution_count": 45,
   "metadata": {},
   "outputs": [],
   "source": [
    "# Normalize the data\n",
    "x_train = x_train / 255.0\n",
    "x_test = x_test / 255.0\n",
    "\n",
    "# Flatten the data\n",
    "x_train = x_train.reshape(-1, 784)\n",
    "x_test = x_test.reshape(-1, 784)"
   ]
  },
  {
   "cell_type": "code",
   "execution_count": 46,
   "metadata": {},
   "outputs": [],
   "source": [
    "# Build the DBN\n",
    "input_layer = Input(shape=(784,))\n",
    "hidden_layer = Dense(512, activation='relu')(input_layer)\n",
    "output_layer = Dense(10, activation='softmax')(hidden_layer)\n",
    "\n",
    "model = Model(input_layer, output_layer)"
   ]
  },
  {
   "cell_type": "code",
   "execution_count": 47,
   "metadata": {},
   "outputs": [],
   "source": [
    "# Compile the model\n",
    "model.compile(optimizer=Adam(), loss='sparse_categorical_crossentropy', metrics=['accuracy'], jit_compile=True)"
   ]
  },
  {
   "cell_type": "code",
   "execution_count": 48,
   "metadata": {},
   "outputs": [
    {
     "name": "stdout",
     "output_type": "stream",
     "text": [
      "Epoch 1/10\n",
      "1875/1875 [==============================] - 70s 37ms/step - loss: 0.2027 - accuracy: 0.9395 - val_loss: 0.0999 - val_accuracy: 0.9704\n",
      "Epoch 2/10\n",
      "1875/1875 [==============================] - 68s 36ms/step - loss: 0.0816 - accuracy: 0.9746 - val_loss: 0.0706 - val_accuracy: 0.9785\n",
      "Epoch 3/10\n",
      "1875/1875 [==============================] - 66s 35ms/step - loss: 0.0531 - accuracy: 0.9828 - val_loss: 0.0654 - val_accuracy: 0.9797\n",
      "Epoch 4/10\n",
      "1875/1875 [==============================] - 67s 36ms/step - loss: 0.0359 - accuracy: 0.9886 - val_loss: 0.0737 - val_accuracy: 0.9778\n",
      "Epoch 5/10\n",
      "1875/1875 [==============================] - 67s 36ms/step - loss: 0.0278 - accuracy: 0.9912 - val_loss: 0.0671 - val_accuracy: 0.9805\n",
      "Epoch 6/10\n",
      "1875/1875 [==============================] - 67s 36ms/step - loss: 0.0213 - accuracy: 0.9931 - val_loss: 0.0712 - val_accuracy: 0.9793\n",
      "Epoch 7/10\n",
      "1875/1875 [==============================] - 67s 36ms/step - loss: 0.0171 - accuracy: 0.9945 - val_loss: 0.0747 - val_accuracy: 0.9796\n",
      "Epoch 8/10\n",
      "1875/1875 [==============================] - 67s 36ms/step - loss: 0.0142 - accuracy: 0.9955 - val_loss: 0.0768 - val_accuracy: 0.9807\n",
      "Epoch 9/10\n",
      "1875/1875 [==============================] - 65s 34ms/step - loss: 0.0139 - accuracy: 0.9954 - val_loss: 0.0819 - val_accuracy: 0.9800\n",
      "Epoch 10/10\n",
      "1875/1875 [==============================] - 65s 34ms/step - loss: 0.0109 - accuracy: 0.9964 - val_loss: 0.0804 - val_accuracy: 0.9817\n"
     ]
    }
   ],
   "source": [
    "# Train the model\n",
    "with tf.device('/CPU:0'):    \n",
    "    model.fit(x_train, y_train, epochs=10, validation_data=(x_test, y_test))"
   ]
  },
  {
   "cell_type": "markdown",
   "metadata": {},
   "source": [
    "## a."
   ]
  },
  {
   "cell_type": "code",
   "execution_count": 49,
   "metadata": {},
   "outputs": [
    {
     "name": "stdout",
     "output_type": "stream",
     "text": [
      "313/313 [==============================] - 3s 11ms/step - loss: 0.0804 - accuracy: 0.9817\n",
      "Test accuracy: 0.9817000031471252\n"
     ]
    }
   ],
   "source": [
    "# Evaluate the model\n",
    "test_loss, test_acc = model.evaluate(x_test, y_test)\n",
    "print('Test accuracy:', test_acc)"
   ]
  },
  {
   "cell_type": "markdown",
   "metadata": {},
   "source": [
    "## b."
   ]
  },
  {
   "cell_type": "code",
   "execution_count": null,
   "metadata": {},
   "outputs": [],
   "source": []
  },
  {
   "cell_type": "markdown",
   "metadata": {},
   "source": [
    "## c."
   ]
  },
  {
   "cell_type": "code",
   "execution_count": null,
   "metadata": {},
   "outputs": [],
   "source": []
  }
 ],
 "metadata": {
  "kernelspec": {
   "display_name": ".venv",
   "language": "python",
   "name": "python3"
  },
  "language_info": {
   "codemirror_mode": {
    "name": "ipython",
    "version": 3
   },
   "file_extension": ".py",
   "mimetype": "text/x-python",
   "name": "python",
   "nbconvert_exporter": "python",
   "pygments_lexer": "ipython3",
   "version": "3.11.6"
  },
  "orig_nbformat": 4
 },
 "nbformat": 4,
 "nbformat_minor": 2
}
