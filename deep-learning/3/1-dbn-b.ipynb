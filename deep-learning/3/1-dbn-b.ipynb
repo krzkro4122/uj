{
 "cells": [
  {
   "cell_type": "markdown",
   "metadata": {},
   "source": [
    "# Deep Belief Networks"
   ]
  },
  {
   "cell_type": "code",
   "execution_count": 198,
   "metadata": {},
   "outputs": [],
   "source": [
    "import torch\n",
    "import torch.nn as nn\n",
    "\n",
    "from sklearn.datasets import load_diabetes\n",
    "from sklearn.model_selection import train_test_split\n",
    "from sklearn.preprocessing import StandardScaler\n",
    "\n",
    "from torch.nn import functional as F\n",
    "from torch.utils.data import DataLoader\n",
    "from torch.utils.data import TensorDataset\n",
    "\n",
    "import matplotlib.pyplot as plt\n",
    "\n",
    "import numpy as np"
   ]
  },
  {
   "cell_type": "code",
   "execution_count": 199,
   "metadata": {},
   "outputs": [
    {
     "name": "stdout",
     "output_type": "stream",
     "text": [
      "Using device: cuda:0\n"
     ]
    }
   ],
   "source": [
    "# Check for GPU\n",
    "device = torch.device(\"cuda:0\" if torch.cuda.is_available() else \"cpu\")\n",
    "print(\"Using device:\", device)"
   ]
  },
  {
   "cell_type": "code",
   "execution_count": 200,
   "metadata": {},
   "outputs": [],
   "source": [
    "# Define a single layer of the Deep Belief Network (as a Restricted Boltzmann Machine)\n",
    "class RBM(nn.Module):\n",
    "    def __init__(self, n_vis, n_hid):\n",
    "        super(RBM, self).__init__()\n",
    "        self.W = nn.Parameter(torch.randn(n_hid, n_vis) * 0.1)\n",
    "        self.v_bias = nn.Parameter(torch.zeros(n_vis))\n",
    "        self.h_bias = nn.Parameter(torch.zeros(n_hid))\n",
    "\n",
    "    def forward(self, v):\n",
    "        # Forward pass - calculate the probabilities of hidden units given visible units\n",
    "        p_h_given_v = torch.sigmoid(F.linear(v, self.W, self.h_bias))\n",
    "        return p_h_given_v"
   ]
  },
  {
   "cell_type": "code",
   "execution_count": 201,
   "metadata": {},
   "outputs": [],
   "source": [
    "class DBN(nn.Module):\n",
    "    def __init__(self, n_vis, hidden_layers, n_out):\n",
    "        super(DBN, self).__init__()\n",
    "        self.rbms = nn.ModuleList(\n",
    "            [\n",
    "                RBM(\n",
    "                    n_vis if i == 0 else hidden_layers[i-1],\n",
    "                    h\n",
    "                )\n",
    "                for i, h in enumerate(hidden_layers)\n",
    "            ]\n",
    "        )\n",
    "        self.output_layer = nn.Linear(hidden_layers[-1], n_out)\n",
    "\n",
    "    def forward(self, v):\n",
    "        for rbm in self.rbms:\n",
    "            v = rbm(v)\n",
    "        v = self.output_layer(v)\n",
    "        return v  # No sigmoid for regression"
   ]
  },
  {
   "cell_type": "code",
   "execution_count": 202,
   "metadata": {},
   "outputs": [],
   "source": [
    "# Load the dataset\n",
    "diabetes = load_diabetes()\n",
    "X = diabetes.data\n",
    "y = diabetes.target\n",
    "\n",
    "# Standardize the data\n",
    "scaler = StandardScaler()\n",
    "X_scaled = scaler.fit_transform(X)\n",
    "\n",
    "# Convert to PyTorch tensors\n",
    "X_tensor = torch.tensor(X_scaled, dtype=torch.float32)\n",
    "y_tensor = torch.tensor(y, dtype=torch.float32).unsqueeze(1)  # Add an extra dimension\n",
    "\n",
    "# Split into training and testing sets\n",
    "X_train, X_test, y_train, y_test = train_test_split(X_tensor, y_tensor, test_size=0.2, random_state=42)\n",
    "\n",
    "# Create data loaders\n",
    "train_dataset = TensorDataset(X_train, y_train)\n",
    "test_dataset = TensorDataset(X_test, y_test)\n",
    "\n",
    "train_loader = DataLoader(train_dataset, batch_size=64, shuffle=True)\n",
    "test_loader = DataLoader(test_dataset, batch_size=64, shuffle=False)\n"
   ]
  },
  {
   "cell_type": "code",
   "execution_count": 203,
   "metadata": {},
   "outputs": [],
   "source": [
    "dbn = DBN(n_vis=10, hidden_layers=[300, 200], n_out=1)"
   ]
  },
  {
   "cell_type": "code",
   "execution_count": 204,
   "metadata": {},
   "outputs": [],
   "source": [
    "def train(dbn, train_loader, epochs, learning_rate, device):\n",
    "    dbn.to(device)\n",
    "    optimizer = torch.optim.Adam(dbn.parameters(), lr=learning_rate)\n",
    "    loss_function = nn.MSELoss()  # Change to MSE Loss\n",
    "\n",
    "    dbn.train()\n",
    "    for epoch in range(epochs):\n",
    "        total_loss = 0\n",
    "        for data, targets in train_loader:\n",
    "            data, targets = data.to(device), targets.to(device)\n",
    "            optimizer.zero_grad()\n",
    "            output = dbn(data)\n",
    "            loss = loss_function(output, targets)\n",
    "            loss.backward()\n",
    "            optimizer.step()\n",
    "            total_loss += loss.item()\n",
    "\n",
    "        if epoch % 500 == 0:\n",
    "            print(f'Epoch {epoch}, Loss: {total_loss / len(train_loader)}')"
   ]
  },
  {
   "cell_type": "code",
   "execution_count": 205,
   "metadata": {},
   "outputs": [
    {
     "name": "stdout",
     "output_type": "stream",
     "text": [
      "Epoch 0, Loss: 29358.183268229168\n"
     ]
    },
    {
     "name": "stdout",
     "output_type": "stream",
     "text": [
      "Epoch 500, Loss: 9904.48046875\n",
      "Epoch 1000, Loss: 4451.1069742838545\n",
      "Epoch 1500, Loss: 3158.0037841796875\n",
      "Epoch 2000, Loss: 2660.09521484375\n",
      "Epoch 2500, Loss: 2500.7499389648438\n",
      "Epoch 3000, Loss: 2281.1035970052085\n",
      "Epoch 3500, Loss: 2008.4805297851562\n",
      "Epoch 4000, Loss: 1793.4320475260417\n",
      "Epoch 4500, Loss: 1646.388651529948\n",
      "Epoch 5000, Loss: 1470.87744140625\n"
     ]
    }
   ],
   "source": [
    "train(dbn, train_loader, epochs=5500, learning_rate=0.0002, device=device)"
   ]
  },
  {
   "cell_type": "code",
   "execution_count": 206,
   "metadata": {},
   "outputs": [],
   "source": [
    "def test(dbn, test_loader, device):\n",
    "    dbn.eval()\n",
    "    test_loss = 0\n",
    "    with torch.no_grad():\n",
    "        for data, targets in test_loader:\n",
    "            data, targets = data.to(device), targets.to(device)\n",
    "            output = dbn(data)\n",
    "            test_loss += nn.MSELoss()(output, targets).item()\n",
    "\n",
    "    test_loss /= len(test_loader)\n",
    "    print(f'Test Loss: {test_loss}')"
   ]
  },
  {
   "cell_type": "code",
   "execution_count": 207,
   "metadata": {},
   "outputs": [
    {
     "name": "stdout",
     "output_type": "stream",
     "text": [
      "Test Loss: 2585.3934326171875\n"
     ]
    }
   ],
   "source": [
    "test(dbn, test_loader, device)"
   ]
  },
  {
   "cell_type": "code",
   "execution_count": 208,
   "metadata": {},
   "outputs": [],
   "source": [
    "def get_predictions(model, data_loader, device):\n",
    "    model.eval()\n",
    "    actuals = []\n",
    "    predictions = []\n",
    "    with torch.no_grad():\n",
    "        for data, targets in data_loader:\n",
    "            data = data.to(device)\n",
    "            output = model(data)\n",
    "            actuals.extend(targets.numpy())\n",
    "            predictions.extend(output.cpu().numpy())\n",
    "    return np.array(actuals), np.array(predictions)"
   ]
  },
  {
   "cell_type": "code",
   "execution_count": 209,
   "metadata": {},
   "outputs": [],
   "source": [
    "actuals, predictions = get_predictions(dbn, test_loader, device)"
   ]
  },
  {
   "cell_type": "code",
   "execution_count": 210,
   "metadata": {},
   "outputs": [
    {
     "data": {
      "image/png": "[encoded data removed]",
      "text/plain": [
       "<Figure size 800x600 with 1 Axes>"
      ]
     },
     "metadata": {},
     "output_type": "display_data"
    }
   ],
   "source": [
    "# Plotting a line of best fit\n",
    "a, b = np.polyfit(actuals.flatten(), predictions.flatten(), 1)\n",
    "plt.figure(figsize=(8, 6))\n",
    "plt.scatter(actuals, predictions, alpha=0.5)\n",
    "plt.plot(actuals, a*actuals + b, color='red')  # Line of best fit\n",
    "plt.xlabel('Actual Values')\n",
    "plt.ylabel('Predicted Values')\n",
    "plt.title('Actual vs. Predicted Values with Line of Best Fit')\n",
    "plt.grid(True)\n",
    "plt.show()"
   ]
  }
 ],
 "metadata": {
  "kernelspec": {
   "display_name": ".venv",
   "language": "python",
   "name": "python3"
  },
  "language_info": {
   "codemirror_mode": {
    "name": "ipython",
    "version": 3
   },
   "file_extension": ".py",
   "mimetype": "text/x-python",
   "name": "python",
   "nbconvert_exporter": "python",
   "pygments_lexer": "ipython3",
   "version": "3.11.0"
  },
  "orig_nbformat": 4
 },
 "nbformat": 4,
 "nbformat_minor": 2
}
